{
 "cells": [
  {
   "cell_type": "code",
   "execution_count": 2,
   "id": "c28d0117-2429-4c88-915c-7b165bb5dcb3",
   "metadata": {},
   "outputs": [],
   "source": [
    "## importing necessary libraries\n",
    "import pandas as pd\n",
    "import numpy as np\n",
    "import matplotlib.pyplot as plt\n",
    "import seaborn as sns\n",
    "\n",
    "## utility\n",
    "import os"
   ]
  },
  {
   "cell_type": "code",
   "execution_count": 14,
   "id": "0777abe0-ac70-40d6-b317-f1b2edba84d1",
   "metadata": {},
   "outputs": [
    {
     "data": {
      "text/plain": [
       "('../datasets/student_perf_1',\n",
       " [],\n",
       " ['student_math_clean.csv', 'student_portuguese_clean.csv', 'url.txt'])"
      ]
     },
     "execution_count": 14,
     "metadata": {},
     "output_type": "execute_result"
    }
   ],
   "source": [
    "data_path = \"../datasets/\"\n",
    "data_file_paths = []\n",
    "\n",
    "for folder in os.listdir(data_path):\n",
    "    for file in "
   ]
  }
 ],
 "metadata": {
  "kernelspec": {
   "display_name": "Python 3 (ipykernel)",
   "language": "python",
   "name": "python3"
  },
  "language_info": {
   "codemirror_mode": {
    "name": "ipython",
    "version": 3
   },
   "file_extension": ".py",
   "mimetype": "text/x-python",
   "name": "python",
   "nbconvert_exporter": "python",
   "pygments_lexer": "ipython3",
   "version": "3.11.9"
  }
 },
 "nbformat": 4,
 "nbformat_minor": 5
}
